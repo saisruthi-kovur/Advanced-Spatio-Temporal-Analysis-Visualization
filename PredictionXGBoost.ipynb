{
 "cells": [
  {
   "cell_type": "code",
   "execution_count": 2,
   "metadata": {},
   "outputs": [
    {
     "name": "stdout",
     "output_type": "stream",
     "text": [
      "Mean Squared Error (MSE): 1.0573753582584156\n"
     ]
    }
   ],
   "source": [
    "import pandas as pd\n",
    "from sklearn.model_selection import train_test_split\n",
    "from sklearn.ensemble import GradientBoostingRegressor\n",
    "from sklearn.metrics import mean_squared_error\n",
    "\n",
    "# Load your data (replace 'your_data.csv' with your file name)\n",
    "data = pd.read_csv('../Data/csv/WashingtonWeather.csv')\n",
    "\n",
    "# Define features and target variable\n",
    "features = ['YEAR', 'MIN', 'LAT', 'LON', 'ELEV(M)', 'TEMP', 'DEWP']\n",
    "target = 'PRCP'\n",
    "\n",
    "Data_2019 = data[data['YEAR'] >= 2019]\n",
    "y_2019 = Data_2019[target]\n",
    "X_2019 = Data_2019[features]\n",
    "\n",
    "# data = data[data['YEAR'] < 2019]\n",
    "X = data[features]\n",
    "y = data[target]\n",
    "\n",
    "# Split data into training and testing sets\n",
    "# X_train, X_test, y_train, y_test = train_test_split(X, y, test_size=0.2, random_state=42)\n",
    "\n",
    "# Create and train the Gradient Boosting Regressor model\n",
    "model = GradientBoostingRegressor(n_estimators=100, random_state=42)\n",
    "model.fit(X, y)\n",
    "\n",
    "# Predict on the test set\n",
    "predictions = model.predict(X_2019)\n",
    "\n",
    "predictions[predictions < 0.0] = 0.0\n",
    "\n",
    "# Calculate Mean Squared Error (MSE)\n",
    "mse = mean_squared_error(y_2019, predictions)\n",
    "print(f\"Mean Squared Error (MSE): {mse}\")"
   ]
  },
  {
   "cell_type": "code",
   "execution_count": 6,
   "metadata": {},
   "outputs": [],
   "source": [
    "Data_2019.to_csv('../Data/csv/Original2019.csv')"
   ]
  },
  {
   "cell_type": "code",
   "execution_count": 4,
   "metadata": {},
   "outputs": [
    {
     "name": "stderr",
     "output_type": "stream",
     "text": [
      "/var/folders/sh/r7pkgpvj2ks150ythj35n1mw0000gn/T/ipykernel_10571/501778301.py:1: SettingWithCopyWarning: \n",
      "A value is trying to be set on a copy of a slice from a DataFrame.\n",
      "Try using .loc[row_indexer,col_indexer] = value instead\n",
      "\n",
      "See the caveats in the documentation: https://pandas.pydata.org/pandas-docs/stable/user_guide/indexing.html#returning-a-view-versus-a-copy\n",
      "  Data_2019['PRCP'] = predictions\n"
     ]
    }
   ],
   "source": [
    "Data_2019['PRCP'] = predictions"
   ]
  },
  {
   "cell_type": "code",
   "execution_count": null,
   "metadata": {},
   "outputs": [],
   "source": [
    "Data_2019.to_csv('../Data/csv/Predicted2019.csv')"
   ]
  },
  {
   "cell_type": "code",
   "execution_count": null,
   "metadata": {},
   "outputs": [],
   "source": []
  }
 ],
 "metadata": {
  "kernelspec": {
   "display_name": "Python 3",
   "language": "python",
   "name": "python3"
  },
  "language_info": {
   "codemirror_mode": {
    "name": "ipython",
    "version": 3
   },
   "file_extension": ".py",
   "mimetype": "text/x-python",
   "name": "python",
   "nbconvert_exporter": "python",
   "pygments_lexer": "ipython3",
   "version": "3.9.6"
  }
 },
 "nbformat": 4,
 "nbformat_minor": 2
}
