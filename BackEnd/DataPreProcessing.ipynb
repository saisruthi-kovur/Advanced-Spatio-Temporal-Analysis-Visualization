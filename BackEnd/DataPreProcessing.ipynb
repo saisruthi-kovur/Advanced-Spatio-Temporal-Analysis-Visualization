{
 "cells": [
  {
   "cell_type": "code",
   "execution_count": 5,
   "metadata": {},
   "outputs": [],
   "source": [
    "import os\n",
    "import gzip\n",
    "import csv\n",
    "import pandas as pd\n",
    "import re\n",
    "import numpy as np\n",
    "import tarfile"
   ]
  },
  {
   "cell_type": "code",
   "execution_count": null,
   "metadata": {},
   "outputs": [],
   "source": [
    "# Reference: https://www.kaggle.com/datasets/noaa/noaa-global-surface-summary-of-the-day/code?datasetId=55784&sortBy=voteCount\n",
    "# Function to preprocess station file content\n",
    "def process_content(data):\n",
    "    # Extracting and formatting data headers\n",
    "    headers = data.pop(0)\n",
    "    headers = [headers[ind] for ind in [0, 1, 2, 3, 4, 8, 11, 12, 13]]\n",
    "\n",
    "    # Loop through data rows and restructure the content\n",
    "    for d in range(len(data)):\n",
    "        data[d] = [data[d][ind] for ind in [0, 1, 2, 3, 5, 13, 17, 18, 19]]\n",
    "    data = pd.DataFrame(data, columns=headers)\n",
    "\n",
    "    # Renaming columns and cleaning up specific columns\n",
    "    data.rename(columns={'STN---': 'USAF'}, inplace=True)\n",
    "    data['MAX'] = data['MAX'].apply(lambda x: re.sub(r\"\\*$\", \"\", x))\n",
    "    data['MIN'] = data['MIN'].apply(lambda x: re.sub(r\"\\*$\", \"\", x))\n",
    "    data['PRCP'] = data['PRCP'].apply(lambda x: re.sub(x, x[:-1], x))\n",
    "\n",
    "    # Converting certain columns to numeric and date formats\n",
    "    data[['WBAN', 'TEMP', 'DEWP', 'WDSP', 'MAX', 'MIN', 'PRCP']] = data[\n",
    "        ['WBAN', 'TEMP', 'DEWP', 'WDSP', 'MAX', 'MIN', 'PRCP']\n",
    "    ].apply(pd.to_numeric)\n",
    "    data['YEARMODA'] = pd.to_datetime(data['YEARMODA'], format='%Y%m%d', errors='ignore')\n",
    "    data['YEAR'] = pd.DatetimeIndex(data['YEARMODA']).year\n",
    "    data['MONTH'] = pd.DatetimeIndex(data['YEARMODA']).month\n",
    "    data['DAY'] = pd.DatetimeIndex(data['YEARMODA']).day\n",
    "    return data\n",
    "\n",
    "# Number of years to consider\n",
    "num_of_years = 20\n",
    "year_files = os.listdir(\"../Data/archive/gsod_all_years\")\n",
    "year_files.sort()\n",
    "year_files = year_files[-num_of_years:]\n",
    "\n",
    "station_location = pd.read_csv('../Data/archive/isd-history.csv')\n",
    "station_location = station_location.replace([0.0, -999.0, -999.9], np.nan)\n",
    "station_location = station_location[pd.notnull(station_location['LAT']) & pd.notnull(station_location['LON'])]\n",
    "\n",
    "# Filtering station location data based on year ranges\n",
    "station_location = station_location[\n",
    "    [int(re.findall('^\\d{4}', str(end_year))[0]) == max([int(re.findall('\\d+', year_file)[0]) for year_file in year_files])\n",
    "     for end_year in station_location['END']]\n",
    "]\n",
    "station_location = station_location[\n",
    "    [int(re.findall('^\\d{4}', str(beg_year))[0]) <= min([int(re.findall('\\d+', year_file)[0]) for year_file in year_files])\n",
    "     for beg_year in station_location['BEGIN']]\n",
    "]\n",
    "\n",
    "# Generating labels for station locations\n",
    "station_location['LBL'] = station_location[['STATION NAME', 'STATE', 'CTRY']].apply(lambda x: x.str.cat(sep=', '), axis=1)\n",
    "station_location['ELEV_LBL'] = station_location['ELEV(M)'].apply(lambda x: 'Elevation: ' + str(x) + ' m' if ~np.isnan(x) else np.nan)\n",
    "station_location['LBL'] = station_location[['LBL', 'ELEV_LBL']].apply(lambda x: x.str.cat(sep='<br>'), axis=1)\n",
    "station_location = station_location.drop(['STATION NAME', 'ELEV_LBL', 'ICAO', 'BEGIN', 'END'], axis=1)\n",
    "\n",
    "df_list = []\n",
    "df_day_list = []\n",
    "\n",
    "# Loop through each year file\n",
    "for year_file in year_files:\n",
    "    print(year_file)\n",
    "    i = 0\n",
    "    tar = tarfile.open(\"../Data/archive/gsod_all_years/\" + year_file, \"r\")\n",
    "    print(len(tar.getmembers()[1:]))\n",
    "    for member in tar.getmembers()[1:]:\n",
    "        name_parts = re.sub(\"\\.op\\.gz$\", \"\", re.sub(\"^\\./\", \"\", member.name)).split(\"-\")\n",
    "        usaf = name_parts[0]\n",
    "        wban = int(name_parts[1])\n",
    "        if station_location[(station_location['USAF'] == usaf) & (station_location['WBAN'] == wban)].shape[0] != 0:\n",
    "            i += 1\n",
    "            f = tar.extractfile(member)\n",
    "            f = gzip.open(f, 'rb')\n",
    "            content = [re.sub(b\" +\", b\",\", line).decode(\"utf-8\").split(\",\") for line in f.readlines()]\n",
    "            content = process_content(content)\n",
    "            df_day_list.append(content[content['YEARMODA'] == content['YEARMODA'].max()])\n",
    "            content = content.groupby(['USAF', 'WBAN', 'YEAR', 'MONTH']).agg('median').reset_index()\n",
    "            df_list.append(content)\n",
    "    tar.close()\n",
    "\n",
    "df = pd.concat(df_list)\n",
    "df_day = pd.concat(df_day_list)\n",
    "\n",
    "df_loc = pd.merge(df, station_location, how='inner', on=['USAF', 'WBAN'])\n",
    "df_loc.to_csv('../Data/csv/IntermediateOutput2.csv')\n"
   ]
  },
  {
   "cell_type": "code",
   "execution_count": null,
   "metadata": {},
   "outputs": [],
   "source": [
    "# Filter the DataFrame to include points within the defined boundaries\n",
    "washington_df = df_loc[\n",
    "    (df_loc['CTRY'] == \"US\") & (df_loc['STATE'] == 'WA')\n",
    "]"
   ]
  },
  {
   "cell_type": "code",
   "execution_count": null,
   "metadata": {},
   "outputs": [],
   "source": [
    "washington_df.head()"
   ]
  },
  {
   "cell_type": "code",
   "execution_count": null,
   "metadata": {},
   "outputs": [],
   "source": [
    "unique_values = washington_df['USAF'].unique()\n",
    "print(\"No. of weather stations in Washington State is\", len(unique_values))"
   ]
  },
  {
   "cell_type": "code",
   "execution_count": null,
   "metadata": {},
   "outputs": [],
   "source": [
    "washington_df.to_csv('../Data/csv/WashingtonWeather.csv')"
   ]
  }
 ],
 "metadata": {
  "kernelspec": {
   "display_name": "Python 3",
   "language": "python",
   "name": "python3"
  },
  "language_info": {
   "codemirror_mode": {
    "name": "ipython",
    "version": 3
   },
   "file_extension": ".py",
   "mimetype": "text/x-python",
   "name": "python",
   "nbconvert_exporter": "python",
   "pygments_lexer": "ipython3",
   "version": "3.11.3"
  }
 },
 "nbformat": 4,
 "nbformat_minor": 2
}
